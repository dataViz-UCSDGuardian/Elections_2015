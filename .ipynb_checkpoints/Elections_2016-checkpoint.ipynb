{
 "cells": [
  {
   "cell_type": "code",
   "execution_count": 1,
   "metadata": {
    "collapsed": true
   },
   "outputs": [],
   "source": [
    "import openpyxl \n",
    "import numpy\n",
    "import matplotlib.pyplot as plt\n",
    "%matplotlib inline"
   ]
  },
  {
   "cell_type": "code",
   "execution_count": 2,
   "metadata": {
    "collapsed": true
   },
   "outputs": [],
   "source": [
    "#Import the excel workbook\n",
    "wb = openpyxl.load_workbook('Politics_at_UCSD.xlsx')\n",
    "\n",
    "#Import the active worksheet\n",
    "ws = wb.active\n",
    "\n",
    "#Import Data from different columns\n",
    "#Column B or Column 2 indicate canidates\n",
    "#Column C or Column 3 indicate why voted for canidates\n",
    "#Column D or Column 4 indicate primary news source\n",
    "Canidates_array = []\n",
    "Canidates_count = {}\n",
    "\n",
    "Reasons_array = []\n",
    "Reasons_split = []\n",
    "Reasons_count = {}\n",
    "\n",
    "News_array = []\n",
    "News_split = []\n",
    "News_count = {}"
   ]
  },
  {
   "cell_type": "code",
   "execution_count": 12,
   "metadata": {
    "collapsed": false
   },
   "outputs": [],
   "source": [
    "#Import Data from Excel into our arrays, and clean the data\n",
    "start = 2\n",
    "end = 367\n",
    "\n",
    "h_reasons = []\n",
    "d_reasons = []\n",
    "b_reasons = []\n",
    "#Import the different columns\n",
    "for index in range(start,end):\n",
    "    Canidates_array.append(ws.cell(row=index,column=2).value)\n",
    "    Reasons_array.append(ws.cell(row=index,column=3).value)\n",
    "    News_array.append(ws.cell(row=index,column=4).value)\n",
    "    \n",
    "    if Canidates_array[index-1] == 'Donald Trump':\n",
    "        d_reasons.append(Reasons_array[index-1])\n",
    "    elif Canidates_array[index-1] == 'Bernie Sanders':\n",
    "        b_reasons.append(Reasons_array[index-1])\n",
    "    elif Canidates_array[index-1] == 'Hillary Clinton':\n",
    "        h_reasons.append(Reasons_array[index-1])\n",
    "    elif Canidates_array[index-1] == 'Hilary Clinton':\n",
    "        h_reasons.append(Reasons_array[index-1])\n",
    "    \n",
    "#Count the Canidates\n",
    "for ca in Canidates_array:\n",
    "    if ca in Canidates_count:\n",
    "        Canidates_count[ca] = Canidates_count[ca] + 1\n",
    "    else:\n",
    "        Canidates_count[ca] = 1\n",
    "        \n",
    "#Split Reasons\n",
    "for r in Reasons_array:\n",
    "    if r is not None:\n",
    "        temp = r.split(',')\n",
    "        for t in temp:\n",
    "            Reasons_split.append( t )\n",
    "    else:\n",
    "        Reasons_split.append( r )\n",
    "\n",
    "#Count the Reasons\n",
    "for rs in Reasons_split:\n",
    "    if rs in Reasons_count:\n",
    "        Reasons_count[rs] = Reasons_count[rs] + 1\n",
    "    else:\n",
    "        Reasons_count[rs] = 1\n",
    "\n",
    "#Split News\n",
    "for n in News_array:\n",
    "    if n is not None:\n",
    "        temp = n.split(',')\n",
    "        for t in temp:\n",
    "            News_split.append( t )\n",
    "    else:\n",
    "        News_split.append( r )\n",
    "\n",
    "#Count the News Sources\n",
    "for ns in News_split:\n",
    "    if ns in News_count:\n",
    "        News_count[ns] = News_count[ns] + 1\n",
    "    else:\n",
    "        News_count[ns] = 1\n"
   ]
  },
  {
   "cell_type": "code",
   "execution_count": 13,
   "metadata": {
    "collapsed": false
   },
   "outputs": [],
   "source": [
    "#Sort responses by canidate. Reasons for voting for each canidate\n",
    "\n",
    "#D represent Donald Trump\n",
    "d_split = []\n",
    "d_count = {}\n",
    "d_wa = []  #wa = word array\n",
    "#Split Reasons\n",
    "for r in d_reasons:\n",
    "    if r is not None:\n",
    "        temp = r.split(',')\n",
    "        for t in temp:\n",
    "            d_split.append( t )\n",
    "    else:\n",
    "        d_split.append( r )\n",
    "\n",
    "#Count the Reasons\n",
    "for rs in d_split:\n",
    "    if rs in d_count:\n",
    "        d_count[rs] = d_count[rs] + 1\n",
    "    else:\n",
    "        d_count[rs] = 1\n",
    "\n",
    "\n",
    "for key in d_count:\n",
    "    if d_count[key] < 5:\n",
    "        d_wa.append(key)\n",
    "#print(d_wa)\n",
    "\n",
    "\n",
    "#B stands for Bernie Sanders\n",
    "b_split = []\n",
    "b_count = {}\n",
    "b_wa = []  #wa = word array\n",
    "#Split Reasons\n",
    "for r in b_reasons:\n",
    "    if r is not None:\n",
    "        temp = r.split(',')\n",
    "        for t in temp:\n",
    "            b_split.append( t )\n",
    "    else:\n",
    "        b_split.append( r )\n",
    "\n",
    "#Count the Reasons\n",
    "for rs in b_split:\n",
    "    if rs in b_count:\n",
    "        b_count[rs] = b_count[rs] + 1\n",
    "    else:\n",
    "        b_count[rs] = 1\n",
    "\n",
    "\n",
    "for key in b_count:\n",
    "    if b_count[key] < 5:\n",
    "        b_wa.append(key)\n",
    "#print(b_wa)\n",
    "\n",
    "\n",
    "#H Stands for Hillary Clinton\n",
    "h_split = []\n",
    "h_count = {}\n",
    "h_wa = []  #wa = word array\n",
    "#Split Reasons\n",
    "for r in h_reasons:\n",
    "    if r is not None:\n",
    "        temp = r.split(',')\n",
    "        for t in temp:\n",
    "            h_split.append( t )\n",
    "    else:\n",
    "        h_split.append( r )\n",
    "\n",
    "#Count the Reasons\n",
    "for rs in h_split:\n",
    "    if rs in h_count:\n",
    "        h_count[rs] = h_count[rs] + 1\n",
    "    else:\n",
    "        h_count[rs] = 1\n",
    "\n",
    "\n",
    "for key in h_count:\n",
    "    if h_count[key] < 5:\n",
    "        h_wa.append(key)\n",
    "#print(h_wa)\n",
    "\n",
    "#The results from d_wa, b_wa, and h_wa were each pasted into wordclouds \n",
    "#website to make a visual word cloud of the repsonses\n",
    "#A transparent image of their head from google was taken for a background\n",
    "#http://www.wordclouds.com/"
   ]
  },
  {
   "cell_type": "code",
   "execution_count": 14,
   "metadata": {
    "collapsed": true
   },
   "outputs": [],
   "source": [
    "#Cleaning Data some more - Part 1 - Cleaning Canidates Data\n",
    "\n",
    "#In Canidate_counts, Hillary Clinton is sometimes recorded as Hilary Clinton\n",
    "if 'Hilary Clinton' in Canidates_count:\n",
    "    Canidates_count['Hillary Clinton'] = Canidates_count['Hillary Clinton'] + Canidates_count['Hilary Clinton']\n",
    "    del Canidates_count['Hilary Clinton']\n",
    "\n",
    "c_keys_to_remove = []\n",
    "for key in Reasons_count:\n",
    "    if Reasons_count[key] < 5:\n",
    "        c_keys_to_remove.append(key)\n",
    "\n",
    "Reasons_count['Other'] = len(c_keys_to_remove)\n",
    "for key in c_keys_to_remove:\n",
    "    del Reasons_count[key]"
   ]
  },
  {
   "cell_type": "code",
   "execution_count": 15,
   "metadata": {
    "collapsed": false
   },
   "outputs": [],
   "source": [
    "#Cleaning Data some more - Part 2 - Cleaning Reasons Data\n",
    "#Note- This data set needed the most cleaning\n",
    "\n",
    "#In Reason_counts, One string was split into 3. It was combined to a sorter \n",
    "#'Their platform' string, and recorded in other for redundancy\n",
    "s1 = ' please elaborate in the \"other\" section provided below'\n",
    "s2 = ' Their platform (If marked'\n",
    "s3 = 'Their platform (If marked'\n",
    "s4 = ' no character max)'\n",
    "s5 = 'I like them more than the other candidates'\n",
    "s6 = ' I like them more than the other candidates'\n",
    "s = 'Their platform'\n",
    "Reasons_count[s] = 1\n",
    "if s1 in Reasons_count:\n",
    "    Reasons_count[s] = Reasons_count[s] + Reasons_count[s1]\n",
    "    del Reasons_count[s1]\n",
    "    del Reasons_count[s4]\n",
    "if s2 in Reasons_count:\n",
    "    Reasons_count[s] = Reasons_count[s] + Reasons_count[s2]\n",
    "    del Reasons_count[s2]\n",
    "if s3 in Reasons_count:\n",
    "    Reasons_count[s] = Reasons_count[s] + Reasons_count[s3]\n",
    "    del Reasons_count[s3]\n",
    "if s6 in Reasons_count:\n",
    "    Reasons_count[s5] = Reasons_count[s5] + Reasons_count[s6]\n",
    "    del Reasons_count[s6]\n",
    "Reasons_count[s] = Reasons_count[s] - 1"
   ]
  },
  {
   "cell_type": "code",
   "execution_count": 16,
   "metadata": {
    "collapsed": false
   },
   "outputs": [],
   "source": [
    "#Cleaning Data some more - Part 3 - Cleaning News Data\n",
    "\n",
    "#In News Counts, remove values that are small\n",
    "n_keys_to_remove = []\n",
    "for key in News_count:\n",
    "    if News_count[key] < 5:\n",
    "        n_keys_to_remove.append(key)\n",
    "\n",
    "News_count['Other'] = len(n_keys_to_remove)\n",
    "for key in n_keys_to_remove:\n",
    "    del News_count[key]\n",
    "\n",
    "\n",
    "# Simplify answers. \n",
    "# Buzzfeed, Jezebel, Reddit are secondary news sources\n",
    "# Count should be 151\n",
    "z = 'Secondary New Sources'\n",
    "z1= ' Secondary news sources (Buzzfeed'\n",
    "z2= ' Jezebel'\n",
    "z3= ' Reddit'\n",
    "z4= 'Secondary news sources (Buzzfeed'\n",
    "News_count[z] = 1\n",
    "if z1 in News_count:\n",
    "    News_count[z] = News_count[z] + News_count[z1]\n",
    "    del News_count[z1]\n",
    "if z2 in News_count:\n",
    "    News_count[z] = News_count[z] + News_count[z2]\n",
    "    del News_count[z2]\n",
    "if z3 in News_count:\n",
    "    News_count[z] = News_count[z] + News_count[z3]\n",
    "    del News_count[z3]\n",
    "if z4 in News_count:\n",
    "    News_count[z] = News_count[z] + News_count[z4]\n",
    "    del News_count[z4]\n",
    "News_count[z] = News_count[z]-1\n",
    "\n",
    "# CNN, FOX, New York Times, MSNBC, LA Times, ABC, NBC\n",
    "#  are primary news sources, Count should be 255\n",
    "z = 'Primary New Sources'\n",
    "z1= ' Primary news sources (CNN'\n",
    "z2= 'Primary news sources (CNN'\n",
    "z3= ' MSNBC'\n",
    "z4= ' New York Times'\n",
    "z5= ' ABC'\n",
    "z6= ' FOX'\n",
    "z7= ' LA Times'\n",
    "z8= ' NBC'\n",
    "News_count[z] = 1\n",
    "if z1 in News_count:\n",
    "    News_count[z] = News_count[z] + News_count[z1]\n",
    "    del News_count[z1]\n",
    "if z2 in News_count:\n",
    "    News_count[z] = News_count[z] + News_count[z2]\n",
    "    del News_count[z2]\n",
    "if z3 in News_count:\n",
    "    News_count[z] = News_count[z] + News_count[z3]\n",
    "    del News_count[z3]\n",
    "if z4 in News_count:\n",
    "    News_count[z] = News_count[z] + News_count[z4]\n",
    "    del News_count[z4]\n",
    "if z5 in News_count:\n",
    "    News_count[z] = News_count[z] + News_count[z5]\n",
    "    del News_count[z5]\n",
    "if z6 in News_count:\n",
    "    News_count[z] = News_count[z] + News_count[z6]\n",
    "    del News_count[z6]\n",
    "if z7 in News_count:\n",
    "    News_count[z] = News_count[z] + News_count[z7]\n",
    "    del News_count[z7]\n",
    "if z8 in News_count:\n",
    "    News_count[z] = News_count[z] + News_count[z8]\n",
    "    del News_count[z8]\n",
    "News_count[z] = News_count[z]-1\n",
    "\n",
    "# Facebook, Instagram, Twitter are social media\n",
    "#Count should be 178\n",
    "z= 'Social Media'\n",
    "z1= ' Twitter'\n",
    "z2= 'Social Media (Facebook'\n",
    "z3= ' Instagram'\n",
    "News_count[z] = 1\n",
    "if z1 in News_count:\n",
    "    News_count[z] = News_count[z] + News_count[z1]\n",
    "    del News_count[z1]\n",
    "if z2 in News_count:\n",
    "    News_count[z] = News_count[z] + News_count[z2]\n",
    "    del News_count[z2]\n",
    "if z3 in News_count:\n",
    "    News_count[z] = News_count[z] + News_count[z3]\n",
    "    del News_count[z3]\n",
    "News_count[z] = News_count[z]-1\n",
    "\n",
    "#Removing a double\n",
    "z = 'My family/friends'\n",
    "z1 =' My family/friends'\n",
    "News_count[z] = 1\n",
    "if z1 in News_count:\n",
    "    News_count[z] = News_count[z] + News_count[z1]\n",
    "    del News_count[z1]\n",
    "News_count[z] = News_count[z]-1 \n",
    "    \n",
    "#Other Outliers to remove\n",
    "z  = 'Their platform'\n",
    "z1 = 'Other'\n",
    "z2 = ' etc.)'\n",
    "z3 = 'Their platform (If marked, please elaborate in the \"other\" section provided below, no character max)'\n",
    "if z1 in News_count:\n",
    "    del News_count[z1]\n",
    "if z2 in News_count:\n",
    "    del News_count[z2]\n",
    "News_count[z] = 1\n",
    "if z3 in News_count:\n",
    "    News_count[z] = News_count[z] + News_count[z3]\n",
    "    del News_count[z3]\n",
    "News_count[z] = News_count[z]-1 \n"
   ]
  },
  {
   "cell_type": "code",
   "execution_count": 21,
   "metadata": {
    "collapsed": true
   },
   "outputs": [],
   "source": [
    "#Cannot sort dictionary type, so created arrays of the \n",
    "#labels in already sorted order. Also added new lines\n",
    "#for the bar graph\n",
    "Canidates_sorted = ['I am ineligible \\n to vote.',\n",
    "    'None',\n",
    "    \"I'm not voting.\", \n",
    "    \"I'm not \\n sure yet.\", \n",
    "    'Hillary Clinton', \n",
    "    'Bernie Sanders',\n",
    "    'Donald Trump']\n",
    "    \n",
    "Reasons_sorted = ['Not voting.',\n",
    " 'None', \n",
    " 'They are \\n from my \\n political party', \n",
    " 'I like them \\n more than the \\n other candidates',\n",
    " 'I have heard \\n good things \\n about them', \n",
    " 'I like them \\n more than the \\n other candidates', \n",
    " 'Their personality',\n",
    " 'Other', \n",
    " 'Their platform']\n",
    "\n",
    "News_sorted = [\"I don't \\n actively obtain \\n political information.\", \n",
    " 'Their platform',\n",
    " 'My family/friends', \n",
    " 'Secondary \\n New Sources', \n",
    "  'Social Media', \n",
    " 'Primary New \\n Sources']\n"
   ]
  },
  {
   "cell_type": "code",
   "execution_count": 18,
   "metadata": {
    "collapsed": false
   },
   "outputs": [
    {
     "data": {
      "image/png": "[encoded data removed]",
      "text/plain": [
       "<matplotlib.figure.Figure at 0x13288503ef0>"
      ]
     },
     "metadata": {},
     "output_type": "display_data"
    }
   ],
   "source": [
    "#Ploting Bar Graphs - Part 1 - Canidates\n",
    "\n",
    "plt.figure(figsize=(12, 9)) \n",
    "bars = plt.bar(range(len(Canidates_count)), \n",
    "        sorted(Canidates_count.values(), reverse = True), align='center',\n",
    "        color = 'gray', hatch = '\\\\')\n",
    "plt.xticks(range(len(Canidates_count)), \n",
    "           list(reversed(Canidates_sorted)), size = 10)\n",
    "patterns = ('-', '+', 'x', '\\\\', '*', 'o', 'O', '.')\n",
    "#for bar, pattern in zip(bars, patterns):\n",
    "#    bar.set_hatch(pattern)"
   ]
  },
  {
   "cell_type": "code",
   "execution_count": 19,
   "metadata": {
    "collapsed": false
   },
   "outputs": [
    {
     "data": {
      "text/plain": [
       "([<matplotlib.axis.XTick at 0x13288baaba8>,\n",
       "  <matplotlib.axis.XTick at 0x13288a97358>,\n",
       "  <matplotlib.axis.XTick at 0x13288bb3e10>,\n",
       "  <matplotlib.axis.XTick at 0x13288dad550>,\n",
       "  <matplotlib.axis.XTick at 0x13288dadf60>,\n",
       "  <matplotlib.axis.XTick at 0x13288daf9b0>],\n",
       " <a list of 6 Text xticklabel objects>)"
      ]
     },
     "execution_count": 19,
     "metadata": {},
     "output_type": "execute_result"
    },
    {
     "data": {
      "image/png": "[encoded data removed]",
      "text/plain": [
       "<matplotlib.figure.Figure at 0x1328852d1d0>"
      ]
     },
     "metadata": {},
     "output_type": "display_data"
    }
   ],
   "source": [
    "#Ploting Bar Graphs - Part 2 - News\n",
    "plt.figure(figsize=(12, 9)) \n",
    "plt.bar(range(len(News_count)), \n",
    "        sorted(News_count.values(), reverse = True), \n",
    "        align='center', color = 'gray', hatch = '\\\\')\n",
    "plt.xticks(range(len(News_sorted)), \n",
    "           list(reversed(News_sorted)), size = 10)"
   ]
  },
  {
   "cell_type": "code",
   "execution_count": 23,
   "metadata": {
    "collapsed": false
   },
   "outputs": [
    {
     "data": {
      "text/plain": [
       "([<matplotlib.axis.XTick at 0x132891f3ac8>,\n",
       "  <matplotlib.axis.XTick at 0x132894dbd68>,\n",
       "  <matplotlib.axis.XTick at 0x13288fd8470>,\n",
       "  <matplotlib.axis.XTick at 0x132893d7710>,\n",
       "  <matplotlib.axis.XTick at 0x132893dd160>,\n",
       "  <matplotlib.axis.XTick at 0x132893ddb70>,\n",
       "  <matplotlib.axis.XTick at 0x132893e15c0>,\n",
       "  <matplotlib.axis.XTick at 0x132893e1fd0>,\n",
       "  <matplotlib.axis.XTick at 0x132893e5a20>],\n",
       " <a list of 9 Text xticklabel objects>)"
      ]
     },
     "execution_count": 23,
     "metadata": {},
     "output_type": "execute_result"
    },
    {
     "data": {
      "image/png": "[encoded data removed]",
      "text/plain": [
       "<matplotlib.figure.Figure at 0x1328920e080>"
      ]
     },
     "metadata": {},
     "output_type": "display_data"
    }
   ],
   "source": [
    "#Ploting Bar Graphs - Part 3 - Reasons\n",
    "plt.figure(figsize=(12, 9)) \n",
    "plt.bar(range(len(Reasons_count)), \n",
    "        sorted(Reasons_count.values(), reverse = True), \n",
    "        align='center', color = 'gray', hatch = '\\\\')\n",
    "plt.xticks(range(len(Reasons_sorted)), \n",
    "           list(reversed(Reasons_sorted)), size = 8)"
   ]
  },
  {
   "cell_type": "code",
   "execution_count": 9,
   "metadata": {
    "collapsed": true
   },
   "outputs": [],
   "source": [
    "#PLoting Pie Charts - Part 0 - Importing Colors\n",
    "# These are the \"Tableau 20\" colors as RGB.    \n",
    "tableau20 = [(31, 119, 180), (174, 199, 232), (255, 127, 14), (255, 187, 120),    \n",
    "             (44, 160, 44), (152, 223, 138), (214, 39, 40), (255, 152, 150),    \n",
    "             (148, 103, 189), (197, 176, 213), (140, 86, 75), (196, 156, 148),    \n",
    "             (227, 119, 194), (247, 182, 210), (127, 127, 127), (199, 199, 199),    \n",
    "             (188, 189, 34), (219, 219, 141), (23, 190, 207), (158, 218, 229)]    \n",
    "  \n",
    "# Scale the RGB values to the [0, 1] range, which is the format matplotlib accepts.    \n",
    "## The values above go can be any value from 0 to 255\n",
    "for i in range(len(tableau20)):    \n",
    "    r, g, b = tableau20[i]    \n",
    "    tableau20[i] = (r / 255., g / 255., b / 255.)  \n",
    "#print(tableau20)"
   ]
  },
  {
   "cell_type": "code",
   "execution_count": 10,
   "metadata": {
    "collapsed": true
   },
   "outputs": [],
   "source": [
    "#PLoting Pie Charts - Part 0 - Redeclaring labels without newline characters\n",
    "Canidates_sorted = ['I am ineligible to vote.',\n",
    "    'None',\n",
    "    \"I'm not voting.\", \n",
    "    \"I'm not sure yet.\", \n",
    "    'Hillary Clinton', \n",
    "    'Bernie Sanders',\n",
    "    'Donald Trump']\n",
    "    \n",
    "Reasons_sorted = ['Not voting.',\n",
    " 'None', \n",
    " 'They are from my political party', \n",
    " 'I like them more than the other candidates',\n",
    " 'I have heard good things about them', \n",
    " 'I like them more than the other candidates', \n",
    " 'Their personality',\n",
    " 'Other', \n",
    " 'Their platform']\n",
    "\n",
    "News_sorted = [\"I don't actively obtain political information.\", \n",
    " 'Their platform',\n",
    " 'My family/friends', \n",
    " 'Secondary New Sources', \n",
    "  'Social Media', \n",
    " 'Primary New Sources']"
   ]
  },
  {
   "cell_type": "code",
   "execution_count": 11,
   "metadata": {
    "collapsed": false
   },
   "outputs": [
    {
     "ename": "ValueError",
     "evalue": "'label' must be of length 'x'",
     "output_type": "error",
     "traceback": [
      "\u001b[1;31m---------------------------------------------------------------------------\u001b[0m",
      "\u001b[1;31mValueError\u001b[0m                                Traceback (most recent call last)",
      "\u001b[1;32m<ipython-input-11-ec7365edadfc>\u001b[0m in \u001b[0;36m<module>\u001b[1;34m()\u001b[0m\n\u001b[0;32m      7\u001b[0m \u001b[0mplt\u001b[0m\u001b[1;33m.\u001b[0m\u001b[0mrcParams\u001b[0m\u001b[1;33m[\u001b[0m\u001b[1;34m'font.size'\u001b[0m\u001b[1;33m]\u001b[0m \u001b[1;33m=\u001b[0m \u001b[1;36m20\u001b[0m\u001b[1;33m\u001b[0m\u001b[0m\n\u001b[0;32m      8\u001b[0m plt.pie(Can_value, labels=Canidates_sorted, colors=tableau20[1:8], \n\u001b[1;32m----> 9\u001b[1;33m         autopct='%1.1f%%', startangle=0, radius = 3, explode = explode)\n\u001b[0m",
      "\u001b[1;32mC:\\Users\\Ayat Amin\\Anaconda3\\lib\\site-packages\\matplotlib\\pyplot.py\u001b[0m in \u001b[0;36mpie\u001b[1;34m(x, explode, labels, colors, autopct, pctdistance, shadow, labeldistance, startangle, radius, counterclock, wedgeprops, textprops, center, frame, hold, data)\u001b[0m\n\u001b[0;32m   3135\u001b[0m                      \u001b[0mradius\u001b[0m\u001b[1;33m=\u001b[0m\u001b[0mradius\u001b[0m\u001b[1;33m,\u001b[0m \u001b[0mcounterclock\u001b[0m\u001b[1;33m=\u001b[0m\u001b[0mcounterclock\u001b[0m\u001b[1;33m,\u001b[0m\u001b[1;33m\u001b[0m\u001b[0m\n\u001b[0;32m   3136\u001b[0m                      \u001b[0mwedgeprops\u001b[0m\u001b[1;33m=\u001b[0m\u001b[0mwedgeprops\u001b[0m\u001b[1;33m,\u001b[0m \u001b[0mtextprops\u001b[0m\u001b[1;33m=\u001b[0m\u001b[0mtextprops\u001b[0m\u001b[1;33m,\u001b[0m \u001b[0mcenter\u001b[0m\u001b[1;33m=\u001b[0m\u001b[0mcenter\u001b[0m\u001b[1;33m,\u001b[0m\u001b[1;33m\u001b[0m\u001b[0m\n\u001b[1;32m-> 3137\u001b[1;33m                      frame=frame, data=data)\n\u001b[0m\u001b[0;32m   3138\u001b[0m     \u001b[1;32mfinally\u001b[0m\u001b[1;33m:\u001b[0m\u001b[1;33m\u001b[0m\u001b[0m\n\u001b[0;32m   3139\u001b[0m         \u001b[0max\u001b[0m\u001b[1;33m.\u001b[0m\u001b[0mhold\u001b[0m\u001b[1;33m(\u001b[0m\u001b[0mwashold\u001b[0m\u001b[1;33m)\u001b[0m\u001b[1;33m\u001b[0m\u001b[0m\n",
      "\u001b[1;32mC:\\Users\\Ayat Amin\\Anaconda3\\lib\\site-packages\\matplotlib\\__init__.py\u001b[0m in \u001b[0;36minner\u001b[1;34m(ax, *args, **kwargs)\u001b[0m\n\u001b[0;32m   1808\u001b[0m                     warnings.warn(msg % (label_namer, func.__name__),\n\u001b[0;32m   1809\u001b[0m                                   RuntimeWarning, stacklevel=2)\n\u001b[1;32m-> 1810\u001b[1;33m             \u001b[1;32mreturn\u001b[0m \u001b[0mfunc\u001b[0m\u001b[1;33m(\u001b[0m\u001b[0max\u001b[0m\u001b[1;33m,\u001b[0m \u001b[1;33m*\u001b[0m\u001b[0margs\u001b[0m\u001b[1;33m,\u001b[0m \u001b[1;33m**\u001b[0m\u001b[0mkwargs\u001b[0m\u001b[1;33m)\u001b[0m\u001b[1;33m\u001b[0m\u001b[0m\n\u001b[0m\u001b[0;32m   1811\u001b[0m         \u001b[0mpre_doc\u001b[0m \u001b[1;33m=\u001b[0m \u001b[0minner\u001b[0m\u001b[1;33m.\u001b[0m\u001b[0m__doc__\u001b[0m\u001b[1;33m\u001b[0m\u001b[0m\n\u001b[0;32m   1812\u001b[0m         \u001b[1;32mif\u001b[0m \u001b[0mpre_doc\u001b[0m \u001b[1;32mis\u001b[0m \u001b[1;32mNone\u001b[0m\u001b[1;33m:\u001b[0m\u001b[1;33m\u001b[0m\u001b[0m\n",
      "\u001b[1;32mC:\\Users\\Ayat Amin\\Anaconda3\\lib\\site-packages\\matplotlib\\axes\\_axes.py\u001b[0m in \u001b[0;36mpie\u001b[1;34m(self, x, explode, labels, colors, autopct, pctdistance, shadow, labeldistance, startangle, radius, counterclock, wedgeprops, textprops, center, frame)\u001b[0m\n\u001b[0;32m   2552\u001b[0m             \u001b[0mexplode\u001b[0m \u001b[1;33m=\u001b[0m \u001b[1;33m[\u001b[0m\u001b[1;36m0\u001b[0m\u001b[1;33m]\u001b[0m \u001b[1;33m*\u001b[0m \u001b[0mlen\u001b[0m\u001b[1;33m(\u001b[0m\u001b[0mx\u001b[0m\u001b[1;33m)\u001b[0m\u001b[1;33m\u001b[0m\u001b[0m\n\u001b[0;32m   2553\u001b[0m         \u001b[1;32mif\u001b[0m \u001b[0mlen\u001b[0m\u001b[1;33m(\u001b[0m\u001b[0mx\u001b[0m\u001b[1;33m)\u001b[0m \u001b[1;33m!=\u001b[0m \u001b[0mlen\u001b[0m\u001b[1;33m(\u001b[0m\u001b[0mlabels\u001b[0m\u001b[1;33m)\u001b[0m\u001b[1;33m:\u001b[0m\u001b[1;33m\u001b[0m\u001b[0m\n\u001b[1;32m-> 2554\u001b[1;33m             \u001b[1;32mraise\u001b[0m \u001b[0mValueError\u001b[0m\u001b[1;33m(\u001b[0m\u001b[1;34m\"'label' must be of length 'x'\"\u001b[0m\u001b[1;33m)\u001b[0m\u001b[1;33m\u001b[0m\u001b[0m\n\u001b[0m\u001b[0;32m   2555\u001b[0m         \u001b[1;32mif\u001b[0m \u001b[0mlen\u001b[0m\u001b[1;33m(\u001b[0m\u001b[0mx\u001b[0m\u001b[1;33m)\u001b[0m \u001b[1;33m!=\u001b[0m \u001b[0mlen\u001b[0m\u001b[1;33m(\u001b[0m\u001b[0mexplode\u001b[0m\u001b[1;33m)\u001b[0m\u001b[1;33m:\u001b[0m\u001b[1;33m\u001b[0m\u001b[0m\n\u001b[0;32m   2556\u001b[0m             \u001b[1;32mraise\u001b[0m \u001b[0mValueError\u001b[0m\u001b[1;33m(\u001b[0m\u001b[1;34m\"'explode' must be of length 'x'\"\u001b[0m\u001b[1;33m)\u001b[0m\u001b[1;33m\u001b[0m\u001b[0m\n",
      "\u001b[1;31mValueError\u001b[0m: 'label' must be of length 'x'"
     ]
    },
    {
     "data": {
      "image/png": "[encoded data removed]",
      "text/plain": [
       "<matplotlib.figure.Figure at 0x1328856c860>"
      ]
     },
     "metadata": {},
     "output_type": "display_data"
    }
   ],
   "source": [
    "#PLoting Pie Charts - Part 1 - Canidates\n",
    "#This one uses the explode parameter\n",
    "Can_value = []\n",
    "explode = (0, 0, 0, 0, 0, 0, 0.5)\n",
    "for val in sorted(Canidates_count.values()):\n",
    "    Can_value.append(val)\n",
    "plt.rcParams['font.size'] = 20\n",
    "plt.pie(Can_value, labels=Canidates_sorted, colors=tableau20[1:8], \n",
    "        autopct='%1.1f%%', startangle=0, radius = 3, explode = explode)"
   ]
  },
  {
   "cell_type": "code",
   "execution_count": null,
   "metadata": {
    "collapsed": false
   },
   "outputs": [],
   "source": [
    "#PLoting Pie Charts - Part 1- News\n",
    "New_value = []\n",
    "for val in sorted(News_count.values()):\n",
    "    New_value.append(val)\n",
    "plt.rcParams['font.size'] = 20\n",
    "plt.pie(New_value, labels=News_sorted, colors=tableau20[1:8], \n",
    "        autopct='%1.1f%%', startangle=0, radius = 3)"
   ]
  },
  {
   "cell_type": "code",
   "execution_count": null,
   "metadata": {
    "collapsed": false
   },
   "outputs": [],
   "source": [
    "#PLoting Pie Charts - Part 1 - Reasons\n",
    "Res_value = []\n",
    "for val in sorted(Reasons_count.values()):\n",
    "    Res_value.append(val)\n",
    "plt.rcParams['font.size'] = 20\n",
    "plt.pie(Res_value, labels=Reasons_sorted, colors=tableau20[1:8], \n",
    "        autopct='%1.1f%%', startangle=0, radius = 3)"
   ]
  },
  {
   "cell_type": "code",
   "execution_count": null,
   "metadata": {
    "collapsed": true
   },
   "outputs": [],
   "source": [
    "#Done"
   ]
  }
 ],
 "metadata": {
  "kernelspec": {
   "display_name": "Python 3",
   "language": "python",
   "name": "python3"
  },
  "language_info": {
   "codemirror_mode": {
    "name": "ipython",
    "version": 3
   },
   "file_extension": ".py",
   "mimetype": "text/x-python",
   "name": "python",
   "nbconvert_exporter": "python",
   "pygments_lexer": "ipython3",
   "version": "3.5.1"
  }
 },
 "nbformat": 4,
 "nbformat_minor": 0
}
